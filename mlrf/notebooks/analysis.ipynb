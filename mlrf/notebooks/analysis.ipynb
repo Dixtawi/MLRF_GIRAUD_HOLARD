{
 "cells": [
  {
   "cell_type": "markdown",
   "metadata": {},
   "source": [
    "# Analysis of Models"
   ]
  },
  {
   "cell_type": "code",
   "execution_count": 1,
   "metadata": {},
   "outputs": [],
   "source": [
    "import sys\n",
    "import os\n",
    "\n",
    "library_path = os.path.abspath(os.path.join(os.getcwd(), '..', 'library'))\n",
    "\n",
    "if library_path not in sys.path:\n",
    "    sys.path.append(library_path)"
   ]
  },
  {
   "cell_type": "code",
   "execution_count": 2,
   "metadata": {},
   "outputs": [],
   "source": [
    "from modeling.models import models, save_model\n",
    "from modeling.hyperparam_search import HyperparamsSearch\n",
    "from dataset import load_dataset\n",
    "from modeling.train import ModelTraining\n",
    "from modeling.predict import ModelPerformances\n",
    "from features import hog_features, hoc_features, flatten_images"
   ]
  },
  {
   "cell_type": "code",
   "execution_count": 3,
   "metadata": {},
   "outputs": [],
   "source": [
    "X_train, X_test, y_train, y_test = load_dataset()"
   ]
  },
  {
   "cell_type": "code",
   "execution_count": 5,
   "metadata": {},
   "outputs": [],
   "source": [
    "X_train_hog = hog_features(X_train)\n",
    "X_test_hog = hog_features(X_test)\n",
    "\n",
    "X_train_flat = flatten_images(X_train)\n",
    "X_test_flat = flatten_images(X_test)\n",
    "\n",
    "X_train_hoc = hoc_features(X_train)\n",
    "X_test_hoc = hoc_features(X_test)"
   ]
  },
  {
   "cell_type": "code",
   "execution_count": 6,
   "metadata": {},
   "outputs": [
    {
     "name": "stdout",
     "output_type": "stream",
     "text": [
      "RandomForestClassifier  accuracy with Flatten:  0.4704\n",
      "RandomForestClassifier  accuracy with HOG:  0.5013\n",
      "RandomForestClassifier  accuracy with SIFT:  0.137\n"
     ]
    },
    {
     "name": "stderr",
     "output_type": "stream",
     "text": [
      "/home/fahol/.local/lib/python3.10/site-packages/sklearn/linear_model/_logistic.py:444: ConvergenceWarning: lbfgs failed to converge (status=1):\n",
      "STOP: TOTAL NO. of ITERATIONS REACHED LIMIT.\n",
      "\n",
      "Increase the number of iterations (max_iter) or scale the data as shown in:\n",
      "    https://scikit-learn.org/stable/modules/preprocessing.html\n",
      "Please also refer to the documentation for alternative solver options:\n",
      "    https://scikit-learn.org/stable/modules/linear_model.html#logistic-regression\n",
      "  n_iter_i = _check_optimize_result(\n"
     ]
    },
    {
     "name": "stdout",
     "output_type": "stream",
     "text": [
      "LogisticRegression  accuracy with Flatten:  0.3912\n",
      "LogisticRegression  accuracy with HOG:  0.5214\n",
      "LogisticRegression  accuracy with SIFT:  0.1177\n",
      "SVM  accuracy with Flatten:  0.5436\n",
      "SVM  accuracy with HOG:  0.6208\n",
      "SVM  accuracy with SIFT:  0.1118\n"
     ]
    }
   ],
   "source": [
    "for model_name, model in models.items():\n",
    "    # Flatten\n",
    "    mt = ModelTraining(model, X_train_flat, y_train)\n",
    "    trained = mt.train()\n",
    "    mp = ModelPerformances(model=trained, X_test=X_test_flat, y_test=y_test)\n",
    "    print(model_name, \" accuracy with Flatten: \", mp.get_accuracy())\n",
    "    \n",
    "    #HOG\n",
    "    mt = ModelTraining(model, X_train_hog, y_train)\n",
    "    trained = mt.train()\n",
    "    mp = ModelPerformances(model=trained, X_test=X_test_hog, y_test=y_test)\n",
    "    save_model(model, model_name)\n",
    "    print(model_name, \" accuracy with HOG: \", mp.get_accuracy())\n",
    "    \n",
    "    #HOC\n",
    "    mt = ModelTraining(model, X_train_hoc, y_train)\n",
    "    trained = mt.train()\n",
    "    mp = ModelPerformances(model=trained, X_test=X_test_hoc, y_test=y_test)\n",
    "    print(model_name, \" accuracy with HoC: \", mp.get_accuracy()) # nous avons oublié de modifier le texte pour sift au lieu de hoc mais c'est bien hoc"
   ]
  }
 ],
 "metadata": {
  "kernelspec": {
   "display_name": "Python 3",
   "language": "python",
   "name": "python3"
  },
  "language_info": {
   "codemirror_mode": {
    "name": "ipython",
    "version": 3
   },
   "file_extension": ".py",
   "mimetype": "text/x-python",
   "name": "python",
   "nbconvert_exporter": "python",
   "pygments_lexer": "ipython3",
   "version": "3.10.12"
  },
  "orig_nbformat": 4
 },
 "nbformat": 4,
 "nbformat_minor": 2
}
