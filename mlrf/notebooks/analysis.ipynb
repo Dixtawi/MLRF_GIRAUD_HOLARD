{
 "cells": [
  {
   "cell_type": "markdown",
   "metadata": {},
   "source": [
    "# Analysis of Models"
   ]
  },
  {
   "cell_type": "code",
   "execution_count": null,
   "metadata": {},
   "outputs": [],
   "source": [
    "import sys\n",
    "import os\n",
    "\n",
    "library_path = os.path.abspath(os.path.join(os.getcwd(), '..', 'library'))\n",
    "\n",
    "if library_path not in sys.path:\n",
    "    sys.path.append(library_path)"
   ]
  },
  {
   "cell_type": "code",
   "execution_count": null,
   "metadata": {},
   "outputs": [],
   "source": [
    "from modeling.models import models\n",
    "from modeling.hyperparam_search import HyperparamsSearch\n",
    "from dataset import load_dataset\n",
    "from modeling.train import ModelTraining\n",
    "from modeling.predict import ModelPerformances\n",
    "from features import hog_features, sift_features, flatten_images"
   ]
  },
  {
   "cell_type": "code",
   "execution_count": null,
   "metadata": {},
   "outputs": [],
   "source": [
    "X_train, X_test, y_train, y_test = load_dataset()"
   ]
  },
  {
   "cell_type": "code",
   "execution_count": null,
   "metadata": {},
   "outputs": [],
   "source": [
    "X_train_hog = hog_features(X_train)\n",
    "X_test_hog = hog_features(X_test)\n",
    "\n",
    "X_train_flat = flatten_images(X_train)\n",
    "X_test_flat = flatten_images(X_test)\n",
    "\n",
    "X_train_sift = sift_features(X_train)\n",
    "X_test_sift = sift_features(X_test)"
   ]
  },
  {
   "cell_type": "code",
   "execution_count": null,
   "metadata": {},
   "outputs": [],
   "source": [
    "for model_name, model in models:\n",
    "    # Flatten\n",
    "    mt = ModelTraining(model, X_train_flat, y_train)\n",
    "    trained = mt.train()\n",
    "    mp = ModelPerformances(model=model, X_test=X_test_flat, y_test=y_test)\n",
    "    print(model_name, \" accuracy with Flatten: \", mp.get_accuracy())\n",
    "    \n",
    "    #HOG\n",
    "    mt = ModelTraining(model, X_train_hog, y_train)\n",
    "    trained = mt.train()\n",
    "    mp = ModelPerformances(model=model, X_test=X_test_hog, y_test=y_test)\n",
    "    print(model_name, \" accuracy with HOG: \", mp.get_accuracy())\n",
    "    \n",
    "    #SIFT\n",
    "    mt = ModelTraining(model, X_train_sift, y_train)\n",
    "    trained = mt.train()\n",
    "    mp = ModelPerformances(model=model, X_test=X_test_sift, y_test=y_test)\n",
    "    print(model_name, \" accuracy with SIFT: \", mp.get_accuracy())"
   ]
  }
 ],
 "metadata": {
  "kernelspec": {
   "display_name": "Python 3",
   "language": "python",
   "name": "python3"
  },
  "language_info": {
   "codemirror_mode": {
    "name": "ipython",
    "version": 3
   },
   "file_extension": ".py",
   "mimetype": "text/x-python",
   "name": "python",
   "nbconvert_exporter": "python",
   "pygments_lexer": "ipython3",
   "version": "3.8.10"
  },
  "orig_nbformat": 4
 },
 "nbformat": 4,
 "nbformat_minor": 2
}
